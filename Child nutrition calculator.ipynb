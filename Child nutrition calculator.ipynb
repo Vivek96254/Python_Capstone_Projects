{
 "cells": [
  {
   "cell_type": "code",
   "execution_count": 10,
   "id": "ea36fc6a",
   "metadata": {},
   "outputs": [
    {
     "name": "stdout",
     "output_type": "stream",
     "text": [
      "Enter name:Vivek\n",
      "Enter age:7\n",
      "Enter height(in inches):45\n",
      "Enter weight(in pounds):60\n",
      "Enter weight of consumption of Milk(in g):300\n",
      "Enter weight of consumption of Vegetables(in g):300\n",
      "Enter weight of consumption of Meat(in g):200\n",
      "Enter weight of consumption of Lentils(in g):100\n",
      "Enter weight of consumption of Egg(in g):300\n",
      "Enter weight of consumption of Rice(in g):300\n",
      "BMI of Peter Parker is 20.83 and he(she) is healthy\n",
      "The daily calorie consumption of Vivek is 1809 and he(she) is not undernourished.\n"
     ]
    }
   ],
   "source": [
    "Name = input(\"Enter name:\")\n",
    "age = int(input(\"Enter age:\"))\n",
    "height =  int(input(\"Enter height(in inches):\"))\n",
    "weight =  int(input(\"Enter weight(in pounds):\"))\n",
    "\n",
    "if(age>8 or age < 0):\n",
    "        print(\"Age limit upto 8 years only. Please input appropriate age.\")\n",
    "        \n",
    "BMI= format((weight/(height**2))*703,\".2f\")\n",
    "\n",
    "print(f\"BMI of Peter Parker is {BMI} and he(she) is healthy\")\n",
    "\n",
    "Milk = int(input(\"Enter weight of consumption of Milk(in g):\"))\n",
    "Vegetables = int(input(\"Enter weight of consumption of Vegetables(in g):\"))\n",
    "Meat = int(input(\"Enter weight of consumption of Meat(in g):\"))\n",
    "Lentils = int(input(\"Enter weight of consumption of Lentils(in g):\"))\n",
    "Egg = int(input(\"Enter weight of consumption of Egg(in g):\"))\n",
    "Rice = int(input(\"Enter weight of consumption of Rice(in g):\"))\n",
    "\n",
    "M = Milk * 1\n",
    "E = Egg*1.55\n",
    "R = Rice * 1.3\n",
    "L =  Lentils * 1.13\n",
    "V = Vegetables * 0.85\n",
    "Me = Meat * 1.43\n",
    "\n",
    "calories = int(format(M + E + R + L + V + Me,\".0f\"))\n",
    "\n",
    "if(age<=2):\n",
    "    if(calories>800):\n",
    "        print(f\"The daily calorie consumption of {Name} is {calories} and he(she) is not undernourished.\")\n",
    "elif(age>2 and age<=4):\n",
    "    if(calories>1400):\n",
    "        print(f\"The daily calorie consumption of {Name} is {calories} and he(she) is not undernourished.\")\n",
    "elif(age>4 and age<=8):\n",
    "    if(calories>1600):\n",
    "        print(f\"The daily calorie consumption of {Name} is {calories} and he(she) is not undernourished.\")\n"
   ]
  },
  {
   "cell_type": "code",
   "execution_count": null,
   "id": "fea2c53b",
   "metadata": {},
   "outputs": [],
   "source": [
    "\n"
   ]
  }
 ],
 "metadata": {
  "kernelspec": {
   "display_name": "Python 3 (ipykernel)",
   "language": "python",
   "name": "python3"
  },
  "language_info": {
   "codemirror_mode": {
    "name": "ipython",
    "version": 3
   },
   "file_extension": ".py",
   "mimetype": "text/x-python",
   "name": "python",
   "nbconvert_exporter": "python",
   "pygments_lexer": "ipython3",
   "version": "3.9.12"
  }
 },
 "nbformat": 4,
 "nbformat_minor": 5
}
